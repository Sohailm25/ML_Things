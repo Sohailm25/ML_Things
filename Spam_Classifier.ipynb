{
 "cells": [
  {
   "cell_type": "code",
   "execution_count": 1,
   "metadata": {
    "collapsed": true
   },
   "outputs": [
    {
     "data": {
      "text/plain": [
       "'\\nFROM https://spamassassin.apache.org/old/publiccorpus/readme.html\\n\\n  - spam: 500 spam messages, all received from non-spam-trap sources.\\n\\n  - easy_ham: 2500 non-spam messages.  These are typically quite easy to\\n    differentiate from spam, since they frequently do not contain any spammish\\n    signatures (like HTML etc).\\n\\n  - hard_ham: 250 non-spam messages which are closer in many respects to\\n    typical spam: use of HTML, unusual HTML markup, coloured text,\\n    \"spammish-sounding\" phrases etc.\\n\\n  - easy_ham_2: 1400 non-spam messages.  A more recent addition to the set.\\n\\n  - spam_2: 1397 spam messages.  Again, more recent.\\n\\nSPAM\\n - spam \\n - spam_2\\n\\n\\nNOT SPAM (HAM)\\n - easy_ham\\n - easy_ham_2\\n - hard_ham (STRETCH)\\n\\n\\n'"
      ]
     },
     "execution_count": 1,
     "metadata": {},
     "output_type": "execute_result"
    }
   ],
   "source": [
    "'''\n",
    "\n",
    "\n",
    "\n",
    "'''"
   ]
  },
  {
   "cell_type": "code",
   "execution_count": 5,
   "metadata": {},
   "outputs": [],
   "source": [
    "import numpy as np\n",
    "import pandas as pd"
   ]
  },
  {
   "cell_type": "code",
   "execution_count": 6,
   "metadata": {},
   "outputs": [],
   "source": []
  },
  {
   "cell_type": "code",
   "execution_count": 8,
   "metadata": {},
   "outputs": [
    {
     "ename": "SyntaxError",
     "evalue": "EOL while scanning string literal (<ipython-input-8-fec2556f33e8>, line 1)",
     "output_type": "error",
     "traceback": [
      "\u001b[0;36m  File \u001b[0;32m\"<ipython-input-8-fec2556f33e8>\"\u001b[0;36m, line \u001b[0;32m1\u001b[0m\n\u001b[0;31m    file1 = read_docx_tables(\"/Users/sohailmohammad/ml/datasets/spam classifier/easy_ham/00002.9c4069e25e1ef370c078db7ee85ff9ac)\u001b[0m\n\u001b[0m                                                                                                                                ^\u001b[0m\n\u001b[0;31mSyntaxError\u001b[0m\u001b[0;31m:\u001b[0m EOL while scanning string literal\n"
     ]
    }
   ],
   "source": []
  },
  {
   "cell_type": "code",
   "execution_count": null,
   "metadata": {},
   "outputs": [],
   "source": []
  }
 ],
 "metadata": {
  "kernelspec": {
   "display_name": "Python 3",
   "language": "python",
   "name": "python3"
  },
  "language_info": {
   "codemirror_mode": {
    "name": "ipython",
    "version": 3
   },
   "file_extension": ".py",
   "mimetype": "text/x-python",
   "name": "python",
   "nbconvert_exporter": "python",
   "pygments_lexer": "ipython3",
   "version": "3.8.5"
  }
 },
 "nbformat": 4,
 "nbformat_minor": 4
}
